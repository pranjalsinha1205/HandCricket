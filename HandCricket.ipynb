{
  "nbformat": 4,
  "nbformat_minor": 0,
  "metadata": {
    "colab": {
      "provenance": [],
      "authorship_tag": "ABX9TyNGvfvV43q5srzGERhwra5B",
      "include_colab_link": true
    },
    "kernelspec": {
      "name": "python3",
      "display_name": "Python 3"
    },
    "language_info": {
      "name": "python"
    }
  },
  "cells": [
    {
      "cell_type": "markdown",
      "metadata": {
        "id": "view-in-github",
        "colab_type": "text"
      },
      "source": [
        "<a href=\"https://colab.research.google.com/github/pranjalsinha1205/HandCricket/blob/main/HandCricket.ipynb\" target=\"_parent\"><img src=\"https://colab.research.google.com/assets/colab-badge.svg\" alt=\"Open In Colab\"/></a>"
      ]
    },
    {
      "cell_type": "code",
      "source": [
        "import random"
      ],
      "metadata": {
        "id": "TDvMNmp1cp8O"
      },
      "execution_count": 9,
      "outputs": []
    },
    {
      "cell_type": "code",
      "source": [
        "def toss():\n",
        "  import random\n",
        "  l = ['H','T']\n",
        "  print(\"Choose heads or tails\")\n",
        "  t = input(\"Heads or Tails \").upper()\n",
        "  if t == random.choice(l):\n",
        "    print(\"You win the toss!\\nType 'Bat' for batting and 'Bowl' for bowling\")\n",
        "    c = input(\"What would you like to do first? Bat or bowl? \").title()\n",
        "    if c == 'Bat':\n",
        "      print(\"You've chosen to Bat first!\")\n",
        "    else:\n",
        "      print(\"You've chosen to Bowl first!\")\n",
        "  else:\n",
        "    print('Ah you lost!')\n",
        "    print(f'The computer has decided to {random.choice([\"Bat\",\"Bowl\"])} first')"
      ],
      "metadata": {
        "id": "-H0TMiOSaQsm"
      },
      "execution_count": 8,
      "outputs": []
    },
    {
      "cell_type": "code",
      "source": [
        "def bat():\n",
        "  print(\"There are 5 types of runs in the game\\n1, 2, 3, 4, and 6\\nIn order to score you need to choose one of the 5 options on your keyboard\\nYou get out if the bowler chooses the same move as you\")\n",
        "  print('This is a five over match, meaning there will be 30 deliveries in total if the batsman doesn\\'t get out before that')\n",
        "  l = [1,2,3,4,6]\n",
        "  score, balls = 0,0\n",
        "  while True:\n",
        "    bat = int(input(\"Your move? \"))\n",
        "    if bat not in l:\n",
        "      print(f'Wrong move!\\nCurrent score: {score}')\n",
        "    else:\n",
        "      if balls != 30:\n",
        "        bowl = random.choice(l)\n",
        "        print(f'Bowler\\'s move: {bowl}')\n",
        "        if bat == bowl:\n",
        "          return f\"Batsman out! The total score is {score}\"\n",
        "        else:\n",
        "          score += bat\n",
        "          balls += 1\n",
        "          print(f'Current score: {score} runs out of {balls} balls')\n",
        "      else:\n",
        "        print(f'End of innings!\\nTotal score is: {score}')\n",
        "        return f\"You need to stop the opponent before it hits {score+1} runs\""
      ],
      "metadata": {
        "id": "2-MlepOmcgSv"
      },
      "execution_count": 45,
      "outputs": []
    },
    {
      "cell_type": "code",
      "source": [
        "def bowl():\n",
        "  print(\"There are 5 types of runs in the game\\n1, 2, 3, 4, and 6\\nIn order to score you need to choose one of the 5 options on your keyboard\\nYou get out if the bowler chooses the same move as you\")\n",
        "  print('This is a five over match, meaning there will be 30 deliveries in total if the batsman doesn\\'t get out before that')\n",
        "  l = [1,2,3,4,6]\n",
        "  score, balls = 0,0\n",
        "  while True:\n",
        "    bat = int(input(\"Your move? \"))\n",
        "    if bat not in l:\n",
        "      print(f'Wrong move!\\nCurrent score: {score}')\n",
        "    else:\n",
        "      if balls != 30:\n",
        "        bowl = random.choice(l)\n",
        "        print(f'Batsman\\'s move: {bowl}')\n",
        "        if bat == bowl:\n",
        "          print(f\"Batsman out! The total score is {score}\")\n",
        "          return f\"You need {score+1} runs to win\"\n",
        "        else:\n",
        "          score += bowl\n",
        "          balls += 1\n",
        "          print(f'Current score: {score} runs out of {balls} balls')\n",
        "      else:\n",
        "        print('End of innings')\n",
        "        print(f'Total score is: {score}')\n",
        "        return f\"You need {score+1} runs to win\""
      ],
      "metadata": {
        "id": "L1QGaX--b4kC"
      },
      "execution_count": 46,
      "outputs": []
    },
    {
      "cell_type": "code",
      "source": [
        "def bat_first():\n",
        "  print(\"So you've decided to bat first!\\nBatsman on the crease\")\n",
        "  while True:\n",
        "    event1 = bat()\n",
        "    print(event1)\n",
        "    print(f'You need to stop the opponent before it manages to score {event1} runs')\n",
        "    event2 = bowl()\n",
        "    while event1 != event2:\n",
        "      print(event2)\n",
        "      if event1 > event2:\n",
        "        return 'You win!'\n",
        "      elif event1<event2:\n",
        "        return 'You lose!'\n",
        "      else:\n",
        "        break\n",
        "      return \"It's a tie\"\n"
      ],
      "metadata": {
        "id": "_3SUVMdMh2es"
      },
      "execution_count": 51,
      "outputs": []
    },
    {
      "cell_type": "code",
      "source": [
        "bat_first()"
      ],
      "metadata": {
        "colab": {
          "base_uri": "https://localhost:8080/",
          "height": 710
        },
        "id": "uaj6MZwQiusE",
        "outputId": "f47475dc-3aa9-483b-8d7d-c50ba1b17c0e"
      },
      "execution_count": 52,
      "outputs": [
        {
          "name": "stdout",
          "output_type": "stream",
          "text": [
            "So you've decided to bat first!\n",
            "Batsman on the crease\n",
            "There are 5 types of runs in the game\n",
            "1, 2, 3, 4, and 6\n",
            "In order to score you need to choose one of the 5 options on your keyboard\n",
            "You get out if the bowler chooses the same move as you\n",
            "This is a five over match, meaning there will be 30 deliveries in total if the batsman doesn't get out before that\n",
            "Your move? 4\n",
            "Bowler's move: 4\n",
            "Batsman out! The total score is 0\n",
            "You need to stop the opponent before it manages to score Batsman out! The total score is 0 runs\n",
            "There are 5 types of runs in the game\n",
            "1, 2, 3, 4, and 6\n",
            "In order to score you need to choose one of the 5 options on your keyboard\n",
            "You get out if the bowler chooses the same move as you\n",
            "This is a five over match, meaning there will be 30 deliveries in total if the batsman doesn't get out before that\n",
            "Your move? 6\n",
            "Batsman's move: 2\n",
            "Current score: 6 runs out of 1 balls\n",
            "Your move? 1\n",
            "Batsman's move: 6\n",
            "Current score: 7 runs out of 2 balls\n",
            "Your move? \n"
          ]
        },
        {
          "output_type": "error",
          "ename": "ValueError",
          "evalue": "ignored",
          "traceback": [
            "\u001b[0;31m---------------------------------------------------------------------------\u001b[0m",
            "\u001b[0;31mValueError\u001b[0m                                Traceback (most recent call last)",
            "\u001b[0;32m<ipython-input-52-d20560dcef85>\u001b[0m in \u001b[0;36m<cell line: 1>\u001b[0;34m()\u001b[0m\n\u001b[0;32m----> 1\u001b[0;31m \u001b[0mbat_first\u001b[0m\u001b[0;34m(\u001b[0m\u001b[0;34m)\u001b[0m\u001b[0;34m\u001b[0m\u001b[0;34m\u001b[0m\u001b[0m\n\u001b[0m",
            "\u001b[0;32m<ipython-input-51-c1d7f3336e46>\u001b[0m in \u001b[0;36mbat_first\u001b[0;34m()\u001b[0m\n\u001b[1;32m      5\u001b[0m     \u001b[0mprint\u001b[0m\u001b[0;34m(\u001b[0m\u001b[0mevent1\u001b[0m\u001b[0;34m)\u001b[0m\u001b[0;34m\u001b[0m\u001b[0;34m\u001b[0m\u001b[0m\n\u001b[1;32m      6\u001b[0m     \u001b[0mprint\u001b[0m\u001b[0;34m(\u001b[0m\u001b[0;34mf'You need to stop the opponent before it manages to score {event1} runs'\u001b[0m\u001b[0;34m)\u001b[0m\u001b[0;34m\u001b[0m\u001b[0;34m\u001b[0m\u001b[0m\n\u001b[0;32m----> 7\u001b[0;31m     \u001b[0mevent2\u001b[0m \u001b[0;34m=\u001b[0m \u001b[0mbowl\u001b[0m\u001b[0;34m(\u001b[0m\u001b[0;34m)\u001b[0m\u001b[0;34m\u001b[0m\u001b[0;34m\u001b[0m\u001b[0m\n\u001b[0m\u001b[1;32m      8\u001b[0m     \u001b[0;32mwhile\u001b[0m \u001b[0mevent1\u001b[0m \u001b[0;34m!=\u001b[0m \u001b[0mevent2\u001b[0m\u001b[0;34m:\u001b[0m\u001b[0;34m\u001b[0m\u001b[0;34m\u001b[0m\u001b[0m\n\u001b[1;32m      9\u001b[0m       \u001b[0mprint\u001b[0m\u001b[0;34m(\u001b[0m\u001b[0mevent2\u001b[0m\u001b[0;34m)\u001b[0m\u001b[0;34m\u001b[0m\u001b[0;34m\u001b[0m\u001b[0m\n",
            "\u001b[0;32m<ipython-input-46-1c54712ee2e7>\u001b[0m in \u001b[0;36mbowl\u001b[0;34m()\u001b[0m\n\u001b[1;32m      5\u001b[0m   \u001b[0mscore\u001b[0m\u001b[0;34m,\u001b[0m \u001b[0mballs\u001b[0m \u001b[0;34m=\u001b[0m \u001b[0;36m0\u001b[0m\u001b[0;34m,\u001b[0m\u001b[0;36m0\u001b[0m\u001b[0;34m\u001b[0m\u001b[0;34m\u001b[0m\u001b[0m\n\u001b[1;32m      6\u001b[0m   \u001b[0;32mwhile\u001b[0m \u001b[0;32mTrue\u001b[0m\u001b[0;34m:\u001b[0m\u001b[0;34m\u001b[0m\u001b[0;34m\u001b[0m\u001b[0m\n\u001b[0;32m----> 7\u001b[0;31m     \u001b[0mbat\u001b[0m \u001b[0;34m=\u001b[0m \u001b[0mint\u001b[0m\u001b[0;34m(\u001b[0m\u001b[0minput\u001b[0m\u001b[0;34m(\u001b[0m\u001b[0;34m\"Your move? \"\u001b[0m\u001b[0;34m)\u001b[0m\u001b[0;34m)\u001b[0m\u001b[0;34m\u001b[0m\u001b[0;34m\u001b[0m\u001b[0m\n\u001b[0m\u001b[1;32m      8\u001b[0m     \u001b[0;32mif\u001b[0m \u001b[0mbat\u001b[0m \u001b[0;32mnot\u001b[0m \u001b[0;32min\u001b[0m \u001b[0ml\u001b[0m\u001b[0;34m:\u001b[0m\u001b[0;34m\u001b[0m\u001b[0;34m\u001b[0m\u001b[0m\n\u001b[1;32m      9\u001b[0m       \u001b[0mprint\u001b[0m\u001b[0;34m(\u001b[0m\u001b[0;34mf'Wrong move!\\nCurrent score: {score}'\u001b[0m\u001b[0;34m)\u001b[0m\u001b[0;34m\u001b[0m\u001b[0;34m\u001b[0m\u001b[0m\n",
            "\u001b[0;31mValueError\u001b[0m: invalid literal for int() with base 10: ''"
          ]
        }
      ]
    },
    {
      "cell_type": "code",
      "execution_count": null,
      "metadata": {
        "id": "8gag1RrHaA_c"
      },
      "outputs": [],
      "source": [
        "def cricket():\n",
        "  print(\"Welcome! Let's play the game we used to play during our classes\")\n",
        "  event = toss()\n",
        "  print(event)\n"
      ]
    }
  ]
}